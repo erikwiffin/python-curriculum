{
 "cells": [
  {
   "cell_type": "markdown",
   "metadata": {},
   "source": [
    "# Welcome to python!\n",
    "\n",
    "This is a Jupyter notebook. Jupyter notebooks are interactive, share-able, coding environments. Some cells (like this one) are rendered markdown, others are code cells. You can run any cell by selecting it (click inside it, it should get a green outline) and clicking the \"Run\" button in the toolbar above.\n",
    "\n",
    "The next cell contains a hello world function. You can run the cell, or you can modify the code to make it say something else."
   ]
  },
  {
   "cell_type": "code",
   "execution_count": null,
   "metadata": {},
   "outputs": [],
   "source": [
    "def say_hello():\n",
    "    print('Hello, world!')\n",
    "\n",
    "say_hello()"
   ]
  },
  {
   "cell_type": "markdown",
   "metadata": {},
   "source": [
    "Cool! There are a couple things to notice about this function.\n",
    "\n",
    "  1. Functions are defined with the `def` keyword.\n",
    "  2. There are no curly braces! Python uses what is called \"significant whitespace\" to know where functions (and if/for/while/etc statements) begin and end.\n",
    "  3. Strings are enclosed in quotes. I like single quotes, but double quotes work too. You can use either, or even switch back and forth, but it is generally recommended to pick one and stick with it.\n",
    "  4. In Jupyter, `print` will display whatever you pass it, but there are other ways to display out too. Run the next cell to see what I mean."
   ]
  },
  {
   "cell_type": "code",
   "execution_count": null,
   "metadata": {},
   "outputs": [],
   "source": [
    "def get_goodbye():\n",
    "    return 'Goodbye, world!'\n",
    "\n",
    "get_goodbye()"
   ]
  },
  {
   "cell_type": "markdown",
   "metadata": {},
   "source": [
    "Jupyter prints out a representation of whatever the last thing to get executed was. You can see the difference by calling `say_hello` and `get_goodbye` several times. Jupyter also remembers things that you executed in previous cells. Since `say_hello` and `get_goodbye` have already been defined, you can call them to see how they're different in the next two cells."
   ]
  },
  {
   "cell_type": "code",
   "execution_count": null,
   "metadata": {},
   "outputs": [],
   "source": [
    "say_hello()\n",
    "say_hello()\n",
    "say_hello()"
   ]
  },
  {
   "cell_type": "code",
   "execution_count": null,
   "metadata": {},
   "outputs": [],
   "source": [
    "get_goodbye()\n",
    "get_goodbye()\n",
    "get_goodbye()"
   ]
  },
  {
   "cell_type": "markdown",
   "metadata": {},
   "source": [
    "Since this is a programming language, copy+pasting these functions a bunch of times is a little bit silly. We're going to need a for loop."
   ]
  },
  {
   "cell_type": "code",
   "execution_count": null,
   "metadata": {},
   "outputs": [],
   "source": [
    "for i in range(0, 3):\n",
    "    say_hello()"
   ]
  },
  {
   "cell_type": "markdown",
   "metadata": {},
   "source": [
    "If you're coming from another language, that syntax is a little weird. The way python's for loops work is that they iterate over *something*. That something can be anything \"iterable\", ie, anything that contains a bunch of other things.\n",
    "\n",
    "`range` is a function that returns a list of `integers` inside a range. It's not inclusive though, so the following for loop will print all of the numbers *starting* at 0, and ending *before* 3."
   ]
  },
  {
   "cell_type": "code",
   "execution_count": null,
   "metadata": {},
   "outputs": [],
   "source": [
    "for i in range(0, 3):\n",
    "    print(i)"
   ]
  },
  {
   "cell_type": "markdown",
   "metadata": {},
   "source": [
    "You can also manually make lists using square brackets. Python's lists are like JavaScript's arrays."
   ]
  },
  {
   "cell_type": "code",
   "execution_count": null,
   "metadata": {},
   "outputs": [],
   "source": [
    "for i in [3, 4, 5]:\n",
    "    print(i)"
   ]
  },
  {
   "cell_type": "markdown",
   "metadata": {},
   "source": [
    "Strings are also iterable!"
   ]
  },
  {
   "cell_type": "code",
   "execution_count": null,
   "metadata": {},
   "outputs": [],
   "source": [
    "for i in 'loopy':\n",
    "    print(i)"
   ]
  },
  {
   "cell_type": "markdown",
   "metadata": {},
   "source": [
    "In addition to lists, Python also has dictionaries. Where a list is an ordered container of items, a dictionary is a container of *named* items. You create lists with curly braces. Python's dictionaries are key/value pairs like JavaScript's objects.\n",
    "\n",
    "The next cell defines a dictionary of animal noises. You'll notice that there's no variable definition keyword, you just start using it."
   ]
  },
  {
   "cell_type": "code",
   "execution_count": null,
   "metadata": {},
   "outputs": [],
   "source": [
    "noises = {\n",
    "    'dog': 'woof',\n",
    "    'cat': 'meow',\n",
    "    'snake': 'hiss',\n",
    "    'fox': '???',\n",
    "}\n",
    "print(noises)"
   ]
  },
  {
   "cell_type": "markdown",
   "metadata": {},
   "source": [
    "To access a value inside a Python dictionary, you use the standard square bracket notation."
   ]
  },
  {
   "cell_type": "code",
   "execution_count": null,
   "metadata": {},
   "outputs": [],
   "source": [
    "print(noises['snake'])"
   ]
  },
  {
   "cell_type": "markdown",
   "metadata": {},
   "source": [
    "Similarly, you use square brackets with integers to access list items."
   ]
  },
  {
   "cell_type": "code",
   "execution_count": null,
   "metadata": {},
   "outputs": [],
   "source": [
    "animals = ['dog', 'cat', 'snake', 'fox']\n",
    "print(animals[2])"
   ]
  },
  {
   "cell_type": "markdown",
   "metadata": {},
   "source": [
    "You can use integers as dictionary keys, but you can't access values by their position. So the first print here will work, but the second will not."
   ]
  },
  {
   "cell_type": "code",
   "execution_count": null,
   "metadata": {},
   "outputs": [],
   "source": [
    "my_dict = {\n",
    "    'foo': 'foo',\n",
    "    'bar': 'bar',\n",
    "    2: 'two',\n",
    "}\n",
    "\n",
    "print(my_dict[2])\n",
    "print(my_dict[1])"
   ]
  },
  {
   "cell_type": "markdown",
   "metadata": {},
   "source": [
    "List access is similar, except they can *only* be accessed by position."
   ]
  },
  {
   "cell_type": "code",
   "execution_count": null,
   "metadata": {},
   "outputs": [],
   "source": [
    "my_list = [\n",
    "    'foo',\n",
    "    'bar',\n",
    "    'two',\n",
    "]\n",
    "\n",
    "print(my_list[2])"
   ]
  },
  {
   "cell_type": "markdown",
   "metadata": {},
   "source": [
    "Python dictionary keys are interpreted. If you try and use an unquoted name in a python dictionary, Python will treat it as a variable. Python variables do need to be defined though, so when you run the following cell, it will raise a `NameError`."
   ]
  },
  {
   "cell_type": "code",
   "execution_count": null,
   "metadata": {},
   "outputs": [],
   "source": [
    "noises = {\n",
    "    dog: 'woof',\n",
    "    cat: 'meow',\n",
    "    snake: 'hiss',\n",
    "    fox: '???',\n",
    "}\n",
    "print(noises)"
   ]
  },
  {
   "cell_type": "markdown",
   "metadata": {},
   "source": [
    "You can take advantage of this functionality to dynamically create objects."
   ]
  },
  {
   "cell_type": "code",
   "execution_count": null,
   "metadata": {},
   "outputs": [],
   "source": [
    "animals = {}  # Create an empty dictionary\n",
    "\n",
    "for i in ['dog', 'cat', 'snake', 'fox']:  # Loop over a list of animals\n",
    "    # Set the \"key\" to the animal name, and the \"value\" to the UPPERCASE name.\n",
    "    animals[i] = i.upper()\n",
    "    \n",
    "print(animals)  # Print out your new dictionary"
   ]
  },
  {
   "cell_type": "markdown",
   "metadata": {},
   "source": [
    "There are a couple new concepts in that cell:\n",
    "\n",
    "  1. Empty dictionaries - `{}` creates an empty dictionary.\n",
    "  2. Comments - Everything on a line after `#` in python is ignored. Python doesn't have multi-line comments.\n",
    "  3. Object methods - Strings (and all other variables, actually) are objects, and objects have methods. All of the available string methods are described in the [python documentation](https://docs.python.org/3/library/stdtypes.html#string-methods)"
   ]
  },
  {
   "cell_type": "markdown",
   "metadata": {},
   "source": [
    "Finally, you're going to need to know how to import things that aren't a part of the basic set of functions and keywords.\n",
    "\n",
    "Since printing out a dictionary puts everything on a single line, it can be a little bit hard to read. Luckily, python comes with a built-in json module that can be helpful here.\n",
    "\n",
    "The next cell will:\n",
    "\n",
    "  1. \"Import\" the json module.\n",
    "  2. Call `json.dumps` with some arguments. `json.dumps` should be read as \"json dump string\", and you can read [the documentation](https://docs.python.org/3/library/json.html#basic-usage) for more json methods.\n",
    "\n",
    "Python arguments can either be \"keyword\" arguments, or \"positional\" arguments. You can use both, but keyword arguments need to come after positional ones.\n",
    "\n",
    "Here, we're asking for a json string representation of our `animals` variable, with an indentation level of 2."
   ]
  },
  {
   "cell_type": "code",
   "execution_count": null,
   "metadata": {},
   "outputs": [],
   "source": [
    "import json\n",
    "\n",
    "print(json.dumps(animals, indent=2))"
   ]
  },
  {
   "cell_type": "markdown",
   "metadata": {},
   "source": [
    "This covers most of the basics of python. We've introduced integers, strings, lists, dictionaries, functions, and modules.\n",
    "\n",
    "There are a few more basic types (booleans, floats, tuples, sets, and classes are pretty common), but with just these concepts you're well on your way to becoming a python master."
   ]
  }
 ],
 "metadata": {
  "kernelspec": {
   "display_name": "Python 3",
   "language": "python",
   "name": "python3"
  },
  "language_info": {
   "codemirror_mode": {
    "name": "ipython",
    "version": 3
   },
   "file_extension": ".py",
   "mimetype": "text/x-python",
   "name": "python",
   "nbconvert_exporter": "python",
   "pygments_lexer": "ipython3",
   "version": "3.6.2"
  }
 },
 "nbformat": 4,
 "nbformat_minor": 2
}
